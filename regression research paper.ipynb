{
 "cells": [
  {
   "cell_type": "code",
   "execution_count": 23,
   "id": "bf2d4436",
   "metadata": {},
   "outputs": [],
   "source": [
    "from sklearn.linear_model import LogisticRegression\n",
    "from sklearn.preprocessing import PolynomialFeatures\n",
    "from sklearn.metrics import accuracy_score\n",
    "from sklearn.model_selection import train_test_split\n",
    "from sklearn.metrics import mean_absolute_error,r2_score\n",
    "from sklearn.datasets import load_iris\n",
    "from math import sqrt\n",
    "from sklearn.metrics import mean_squared_error"
   ]
  },
  {
   "cell_type": "code",
   "execution_count": 13,
   "id": "61607ea6",
   "metadata": {},
   "outputs": [],
   "source": [
    "data_iris=load_iris()"
   ]
  },
  {
   "cell_type": "code",
   "execution_count": 14,
   "id": "08571654",
   "metadata": {},
   "outputs": [],
   "source": [
    "X_feature=data_iris.data\n",
    "Y_target=data_iris.target"
   ]
  },
  {
   "cell_type": "code",
   "execution_count": 15,
   "id": "d8f7338d",
   "metadata": {},
   "outputs": [],
   "source": [
    "x_train,x_test,y_train,y_test=train_test_split(X_feature,Y_target)"
   ]
  },
  {
   "cell_type": "code",
   "execution_count": 16,
   "id": "124570e9",
   "metadata": {},
   "outputs": [
    {
     "data": {
      "text/plain": [
       "0.9736842105263158"
      ]
     },
     "execution_count": 16,
     "metadata": {},
     "output_type": "execute_result"
    }
   ],
   "source": [
    "Log_Reg=LogisticRegression()\n",
    "Log_Reg.fit(x_train,y_train)\n",
    "y_pred=Log_Reg.predict(x_test)\n",
    "accuracy_score(y_test,y_pred)"
   ]
  },
  {
   "cell_type": "code",
   "execution_count": 31,
   "id": "004de8b3",
   "metadata": {},
   "outputs": [
    {
     "name": "stdout",
     "output_type": "stream",
     "text": [
      "0.9373431593487993\n"
     ]
    }
   ],
   "source": [
    "from sklearn.linear_model import Ridge\n",
    "ridgereg=Ridge(alpha=0.001,normalize=True)\n",
    "ridgereg.fit(x_train,y_train)\n",
    "print(ridgereg.score(x_test,y_test))"
   ]
  },
  {
   "cell_type": "code",
   "execution_count": 29,
   "id": "6d04dbaf",
   "metadata": {},
   "outputs": [
    {
     "name": "stdout",
     "output_type": "stream",
     "text": [
      "0.9327528491322514\n"
     ]
    }
   ],
   "source": [
    "from sklearn.linear_model import Lasso\n",
    "lassoreg=Lasso(alpha=0.001,normalize=True)\n",
    "lassoreg.fit(x_train,y_train)\n",
    "print(lassoreg.score(x_test,y_test))"
   ]
  },
  {
   "cell_type": "code",
   "execution_count": 32,
   "id": "4ead8409",
   "metadata": {},
   "outputs": [
    {
     "name": "stdout",
     "output_type": "stream",
     "text": [
      "0.9336131191809609\n"
     ]
    }
   ],
   "source": [
    "from sklearn.linear_model import ElasticNet\n",
    "elas_reg=ElasticNet(alpha=0.001,normalize=True)\n",
    "elas_reg.fit(x_train,y_train)\n",
    "print(elas_reg.score(x_test,y_test))\n"
   ]
  },
  {
   "cell_type": "code",
   "execution_count": null,
   "id": "eaf2c72d",
   "metadata": {},
   "outputs": [],
   "source": []
  }
 ],
 "metadata": {
  "kernelspec": {
   "display_name": "Python 3 (ipykernel)",
   "language": "python",
   "name": "python3"
  },
  "language_info": {
   "codemirror_mode": {
    "name": "ipython",
    "version": 3
   },
   "file_extension": ".py",
   "mimetype": "text/x-python",
   "name": "python",
   "nbconvert_exporter": "python",
   "pygments_lexer": "ipython3",
   "version": "3.9.7"
  }
 },
 "nbformat": 4,
 "nbformat_minor": 5
}
