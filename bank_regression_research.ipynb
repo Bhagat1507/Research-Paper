{
 "cells": [
  {
   "cell_type": "code",
   "execution_count": 1,
   "id": "bdf015d9",
   "metadata": {},
   "outputs": [],
   "source": [
    "from sklearn.model_selection import train_test_split\n",
    "from sklearn.linear_model import LogisticRegression\n",
    "from sklearn.tree import DecisionTreeClassifier\n",
    "from sklearn.ensemble import RandomForestClassifier\n",
    "from sklearn.naive_bayes import GaussianNB\n",
    "from sklearn import svm\n",
    "import pandas as pd\n",
    "import numpy as np\n",
    "from sklearn.metrics import accuracy_score\n",
    "import time"
   ]
  },
  {
   "cell_type": "code",
   "execution_count": 5,
   "id": "27458c48",
   "metadata": {},
   "outputs": [
    {
     "data": {
      "text/html": [
       "<div>\n",
       "<style scoped>\n",
       "    .dataframe tbody tr th:only-of-type {\n",
       "        vertical-align: middle;\n",
       "    }\n",
       "\n",
       "    .dataframe tbody tr th {\n",
       "        vertical-align: top;\n",
       "    }\n",
       "\n",
       "    .dataframe thead th {\n",
       "        text-align: right;\n",
       "    }\n",
       "</style>\n",
       "<table border=\"1\" class=\"dataframe\">\n",
       "  <thead>\n",
       "    <tr style=\"text-align: right;\">\n",
       "      <th></th>\n",
       "      <th>ph</th>\n",
       "      <th>Hardness</th>\n",
       "      <th>Solids</th>\n",
       "      <th>Chloramines</th>\n",
       "      <th>Sulfate</th>\n",
       "      <th>Conductivity</th>\n",
       "      <th>Organic_carbon</th>\n",
       "      <th>Trihalomethanes</th>\n",
       "      <th>Turbidity</th>\n",
       "      <th>Potability</th>\n",
       "    </tr>\n",
       "  </thead>\n",
       "  <tbody>\n",
       "    <tr>\n",
       "      <th>0</th>\n",
       "      <td>NaN</td>\n",
       "      <td>204.890455</td>\n",
       "      <td>20791.318981</td>\n",
       "      <td>7.300212</td>\n",
       "      <td>368.516441</td>\n",
       "      <td>564.308654</td>\n",
       "      <td>10.379783</td>\n",
       "      <td>86.990970</td>\n",
       "      <td>2.963135</td>\n",
       "      <td>0</td>\n",
       "    </tr>\n",
       "    <tr>\n",
       "      <th>1</th>\n",
       "      <td>3.716080</td>\n",
       "      <td>129.422921</td>\n",
       "      <td>18630.057858</td>\n",
       "      <td>6.635246</td>\n",
       "      <td>NaN</td>\n",
       "      <td>592.885359</td>\n",
       "      <td>15.180013</td>\n",
       "      <td>56.329076</td>\n",
       "      <td>4.500656</td>\n",
       "      <td>0</td>\n",
       "    </tr>\n",
       "    <tr>\n",
       "      <th>2</th>\n",
       "      <td>8.099124</td>\n",
       "      <td>224.236259</td>\n",
       "      <td>19909.541732</td>\n",
       "      <td>9.275884</td>\n",
       "      <td>NaN</td>\n",
       "      <td>418.606213</td>\n",
       "      <td>16.868637</td>\n",
       "      <td>66.420093</td>\n",
       "      <td>3.055934</td>\n",
       "      <td>0</td>\n",
       "    </tr>\n",
       "    <tr>\n",
       "      <th>3</th>\n",
       "      <td>8.316766</td>\n",
       "      <td>214.373394</td>\n",
       "      <td>22018.417441</td>\n",
       "      <td>8.059332</td>\n",
       "      <td>356.886136</td>\n",
       "      <td>363.266516</td>\n",
       "      <td>18.436524</td>\n",
       "      <td>100.341674</td>\n",
       "      <td>4.628771</td>\n",
       "      <td>0</td>\n",
       "    </tr>\n",
       "    <tr>\n",
       "      <th>4</th>\n",
       "      <td>9.092223</td>\n",
       "      <td>181.101509</td>\n",
       "      <td>17978.986339</td>\n",
       "      <td>6.546600</td>\n",
       "      <td>310.135738</td>\n",
       "      <td>398.410813</td>\n",
       "      <td>11.558279</td>\n",
       "      <td>31.997993</td>\n",
       "      <td>4.075075</td>\n",
       "      <td>0</td>\n",
       "    </tr>\n",
       "  </tbody>\n",
       "</table>\n",
       "</div>"
      ],
      "text/plain": [
       "         ph    Hardness        Solids  Chloramines     Sulfate  Conductivity  \\\n",
       "0       NaN  204.890455  20791.318981     7.300212  368.516441    564.308654   \n",
       "1  3.716080  129.422921  18630.057858     6.635246         NaN    592.885359   \n",
       "2  8.099124  224.236259  19909.541732     9.275884         NaN    418.606213   \n",
       "3  8.316766  214.373394  22018.417441     8.059332  356.886136    363.266516   \n",
       "4  9.092223  181.101509  17978.986339     6.546600  310.135738    398.410813   \n",
       "\n",
       "   Organic_carbon  Trihalomethanes  Turbidity  Potability  \n",
       "0       10.379783        86.990970   2.963135           0  \n",
       "1       15.180013        56.329076   4.500656           0  \n",
       "2       16.868637        66.420093   3.055934           0  \n",
       "3       18.436524       100.341674   4.628771           0  \n",
       "4       11.558279        31.997993   4.075075           0  "
      ]
     },
     "execution_count": 5,
     "metadata": {},
     "output_type": "execute_result"
    }
   ],
   "source": [
    "data=pd.read_csv(\"water_potability.csv\")\n",
    "data.head()\n"
   ]
  },
  {
   "cell_type": "code",
   "execution_count": 10,
   "id": "3fd4fd3a",
   "metadata": {},
   "outputs": [
    {
     "data": {
      "text/plain": [
       "ph                 0\n",
       "Hardness           0\n",
       "Solids             0\n",
       "Chloramines        0\n",
       "Sulfate            0\n",
       "Conductivity       0\n",
       "Organic_carbon     0\n",
       "Trihalomethanes    0\n",
       "Turbidity          0\n",
       "Potability         0\n",
       "dtype: int64"
      ]
     },
     "execution_count": 10,
     "metadata": {},
     "output_type": "execute_result"
    }
   ],
   "source": [
    "data.isnull().sum()"
   ]
  },
  {
   "cell_type": "code",
   "execution_count": 9,
   "id": "5dd6eef2",
   "metadata": {},
   "outputs": [],
   "source": [
    "data.shape\n",
    "data['ph']=data['ph'].fillna(data['ph'].mean())\n",
    "data['Sulfate']=data['Sulfate'].fillna(data['Sulfate'].mean())\n",
    "data['Trihalomethanes']=data['Trihalomethanes'].fillna(data['Trihalomethanes'].mean())"
   ]
  },
  {
   "cell_type": "code",
   "execution_count": 12,
   "id": "68aaa3bb",
   "metadata": {},
   "outputs": [],
   "source": [
    "X_feature=data.iloc[:,:-1]"
   ]
  },
  {
   "cell_type": "code",
   "execution_count": 23,
   "id": "033d6386",
   "metadata": {},
   "outputs": [
    {
     "data": {
      "text/plain": [
       "(3276, 1)"
      ]
     },
     "execution_count": 23,
     "metadata": {},
     "output_type": "execute_result"
    }
   ],
   "source": [
    "Y_target=data.iloc[:,-1:]\n",
    "Y_target.shape"
   ]
  },
  {
   "cell_type": "code",
   "execution_count": 18,
   "id": "ef7bb713",
   "metadata": {},
   "outputs": [],
   "source": [
    "logical=[]\n",
    "decision=[]\n",
    "random=[]\n",
    "naive=[]\n",
    "support=[]\n",
    "\n",
    "logical_time=[]\n",
    "decision_time=[]\n",
    "random_time=[]\n",
    "naive_time=[]\n",
    "support_time=[]\n",
    "i=1"
   ]
  },
  {
   "cell_type": "code",
   "execution_count": 24,
   "id": "797ba531",
   "metadata": {},
   "outputs": [
    {
     "data": {
      "text/html": [
       "<div>\n",
       "<style scoped>\n",
       "    .dataframe tbody tr th:only-of-type {\n",
       "        vertical-align: middle;\n",
       "    }\n",
       "\n",
       "    .dataframe tbody tr th {\n",
       "        vertical-align: top;\n",
       "    }\n",
       "\n",
       "    .dataframe thead th {\n",
       "        text-align: right;\n",
       "    }\n",
       "</style>\n",
       "<table border=\"1\" class=\"dataframe\">\n",
       "  <thead>\n",
       "    <tr style=\"text-align: right;\">\n",
       "      <th></th>\n",
       "      <th>Potability</th>\n",
       "    </tr>\n",
       "  </thead>\n",
       "  <tbody>\n",
       "    <tr>\n",
       "      <th>0</th>\n",
       "      <td>0</td>\n",
       "    </tr>\n",
       "    <tr>\n",
       "      <th>1</th>\n",
       "      <td>0</td>\n",
       "    </tr>\n",
       "    <tr>\n",
       "      <th>2</th>\n",
       "      <td>0</td>\n",
       "    </tr>\n",
       "    <tr>\n",
       "      <th>3</th>\n",
       "      <td>0</td>\n",
       "    </tr>\n",
       "    <tr>\n",
       "      <th>4</th>\n",
       "      <td>0</td>\n",
       "    </tr>\n",
       "  </tbody>\n",
       "</table>\n",
       "</div>"
      ],
      "text/plain": [
       "   Potability\n",
       "0           0\n",
       "1           0\n",
       "2           0\n",
       "3           0\n",
       "4           0"
      ]
     },
     "execution_count": 24,
     "metadata": {},
     "output_type": "execute_result"
    }
   ],
   "source": [
    "X_feature\n",
    "Y_target.head()"
   ]
  },
  {
   "cell_type": "code",
   "execution_count": 25,
   "id": "910d69c9",
   "metadata": {},
   "outputs": [
    {
     "name": "stdout",
     "output_type": "stream",
     "text": [
      "(2457, 9)\n",
      "(819, 9)\n",
      "(2457, 1)\n",
      "(819, 1)\n"
     ]
    }
   ],
   "source": [
    "x_train,x_test,y_train,y_test=train_test_split(X_feature,Y_target)\n",
    "print(x_train.shape)\n",
    "print(x_test.shape)\n",
    "print(y_train.shape)\n",
    "print(y_test.shape)\n"
   ]
  },
  {
   "cell_type": "code",
   "execution_count": 26,
   "id": "459f15c7",
   "metadata": {},
   "outputs": [
    {
     "name": "stderr",
     "output_type": "stream",
     "text": [
      "c:\\users\\amals\\appdata\\local\\programs\\python\\python39\\lib\\site-packages\\sklearn\\utils\\validation.py:63: DataConversionWarning: A column-vector y was passed when a 1d array was expected. Please change the shape of y to (n_samples, ), for example using ravel().\n",
      "  return f(*args, **kwargs)\n"
     ]
    }
   ],
   "source": [
    "logreg=LogisticRegression()\n",
    "start=time.time()\n",
    "logreg.fit(x_train,y_train)\n",
    "end=time.time()\n",
    "t=end-start\n",
    "logical_time.append(t)\n",
    "y_predict=logreg.predict(x_test)\n",
    "acc=accuracy_score(y_test,y_predict)\n",
    "logical.append(acc)"
   ]
  },
  {
   "cell_type": "code",
   "execution_count": 27,
   "id": "075f37e2",
   "metadata": {},
   "outputs": [],
   "source": [
    "clf_reg=DecisionTreeClassifier()\n",
    "start=time.time()\n",
    "clf_reg.fit(x_train,y_train)\n",
    "end=time.time()\n",
    "t1=end-start\n",
    "decision_time.append(t1)\n",
    "y_predict=clf_reg.predict(x_test)\n",
    "acc1=accuracy_score(y_test,y_predict)\n",
    "decision.append(acc1)"
   ]
  },
  {
   "cell_type": "code",
   "execution_count": 28,
   "id": "7d3356b4",
   "metadata": {},
   "outputs": [
    {
     "name": "stderr",
     "output_type": "stream",
     "text": [
      "C:\\Users\\amals\\AppData\\Local\\Temp/ipykernel_37712/1385436832.py:3: DataConversionWarning: A column-vector y was passed when a 1d array was expected. Please change the shape of y to (n_samples,), for example using ravel().\n",
      "  random_reg.fit(x_train,y_train)\n"
     ]
    }
   ],
   "source": [
    "random_reg=RandomForestClassifier()\n",
    "start=time.time()\n",
    "random_reg.fit(x_train,y_train)\n",
    "end=time.time()\n",
    "t2=end-start\n",
    "random_time.append(t2)\n",
    "y_predict=random_reg.predict(x_test)\n",
    "acc2=accuracy_score(y_test,y_predict)\n",
    "random.append(acc2)"
   ]
  },
  {
   "cell_type": "code",
   "execution_count": 29,
   "id": "ce3ecb06",
   "metadata": {},
   "outputs": [
    {
     "name": "stderr",
     "output_type": "stream",
     "text": [
      "c:\\users\\amals\\appdata\\local\\programs\\python\\python39\\lib\\site-packages\\sklearn\\utils\\validation.py:63: DataConversionWarning: A column-vector y was passed when a 1d array was expected. Please change the shape of y to (n_samples, ), for example using ravel().\n",
      "  return f(*args, **kwargs)\n"
     ]
    }
   ],
   "source": [
    "nb_reg=GaussianNB()\n",
    "start=time.time()\n",
    "nb_reg.fit(x_train,y_train)\n",
    "end=time.time()\n",
    "t3=end-start\n",
    "naive_time.append(t3)\n",
    "y_predict=nb_reg.predict(x_test)\n",
    "acc3=accuracy_score(y_test,y_predict)\n",
    "naive.append(acc3)"
   ]
  },
  {
   "cell_type": "code",
   "execution_count": null,
   "id": "c1c20d37",
   "metadata": {},
   "outputs": [
    {
     "name": "stderr",
     "output_type": "stream",
     "text": [
      "c:\\users\\amals\\appdata\\local\\programs\\python\\python39\\lib\\site-packages\\sklearn\\utils\\validation.py:63: DataConversionWarning: A column-vector y was passed when a 1d array was expected. Please change the shape of y to (n_samples, ), for example using ravel().\n",
      "  return f(*args, **kwargs)\n"
     ]
    }
   ],
   "source": [
    "svm_reg=svm.SVC(kernel='linear')\n",
    "start=time.time()\n",
    "svm_reg.fit(x_train,y_train)\n",
    "end=time.time()\n",
    "t4=end-start\n",
    "support_time.append(t4)\n",
    "y_predict=svm_reg.predict(x_test)\n",
    "acc4=accuracy_score(y_test,y_predict)\n",
    "support.append(acc4)\n",
    "\n",
    "i+=1"
   ]
  },
  {
   "cell_type": "code",
   "execution_count": null,
   "id": "5e505bac",
   "metadata": {},
   "outputs": [],
   "source": [
    "Log_Reg=pd.DataFrame(data=log_Reg,columns=['Logical Regression'])\n",
    "Decision=pd.DataFrame(data=decision_reg,columns=['Decision Tree'])\n",
    "Random=pd.DataFrame(data=random_reg,columns=['Random Forest'])\n",
    "Naive=pd.DataFrame(data=naive_reg,columns=['Naive Bayes'])\n",
    "SVM=pd.DataFrame(data=svm_reg,columns=['SVM'])\n",
    "\n",
    "Log_time=pd.DataFrame(data=log_time,columns=['Train-Time(Log Reg)'])\n",
    "Dec_time=pd.DataFrame(data=dec_time,columns=['Train-Time(Decision Tree)'])\n",
    "Ran_time=pd.DataFrame(data=ran_time,columns=['Train-Time(Random Forest)'])\n",
    "Naive_time=pd.DataFrame(data=nai_time,columns=['Train-Time(Naive Bayes)'])\n",
    "Svm_time=pd.DataFrame(data=svm_time,columns=['Train-Time(SVM)'])\n",
    "\n"
   ]
  },
  {
   "cell_type": "code",
   "execution_count": null,
   "id": "756b9263",
   "metadata": {},
   "outputs": [],
   "source": [
    "data_reg=pd.concat([Log_Reg,Log_time,Decision,Dec_time,Random,Ran_time,Naive,Naive_time,SVM,Svm_time],axis=1)"
   ]
  },
  {
   "cell_type": "code",
   "execution_count": null,
   "id": "4abb0261",
   "metadata": {},
   "outputs": [],
   "source": [
    "data_reg.to_csv(\"Regression_time_accuracy_bank.csv\")"
   ]
  }
 ],
 "metadata": {
  "kernelspec": {
   "display_name": "Python 3 (ipykernel)",
   "language": "python",
   "name": "python3"
  },
  "language_info": {
   "codemirror_mode": {
    "name": "ipython",
    "version": 3
   },
   "file_extension": ".py",
   "mimetype": "text/x-python",
   "name": "python",
   "nbconvert_exporter": "python",
   "pygments_lexer": "ipython3",
   "version": "3.9.7"
  }
 },
 "nbformat": 4,
 "nbformat_minor": 5
}
